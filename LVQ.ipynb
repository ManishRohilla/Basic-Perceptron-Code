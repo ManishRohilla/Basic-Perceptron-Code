{
 "cells": [
  {
   "cell_type": "code",
   "execution_count": null,
   "metadata": {},
   "outputs": [],
   "source": [
    "import numpy as np\n",
    "import pandas as pd"
   ]
  },
  {
   "cell_type": "code",
   "execution_count": null,
   "metadata": {},
   "outputs": [],
   "source": [
    "dataset = pd.read_csv(\"online_shoppers_intention.csv\")\n",
    "#dataset.head\n",
    "dataset['Rev_con']=dataset['Revenue'].astype(int)\n",
    "dataset.info()"
   ]
  },
  {
   "cell_type": "code",
   "execution_count": null,
   "metadata": {},
   "outputs": [],
   "source": [
    "from sklearn.preprocessing import LabelEncoder\n",
    "lb=LabelEncoder()\n",
    "for i in ('Month', 'VisitorType', 'Weekend'):\n",
    "    dataset[i]=lb.fit_transform(dataset[i])\n",
    "dataset.info()"
   ]
  },
  {
   "cell_type": "code",
   "execution_count": null,
   "metadata": {},
   "outputs": [],
   "source": [
    "dataset"
   ]
  },
  {
   "cell_type": "code",
   "execution_count": null,
   "metadata": {},
   "outputs": [],
   "source": [
    "np.around(dataset,decimals=4)\n",
    "Xdata2 = dataset.drop(columns=[\"Revenue\",\"Rev_con\",\"TrafficType\",\"VisitorType\"], axis = 1) #droping the revenue column from the dataset to store it in a array as input elements\n",
    "X = np.array(Xdata2)#print(X)\n",
    "\n",
    "print(X[12327])\n",
    "print(X.shape)\n",
    "X"
   ]
  },
  {
   "cell_type": "code",
   "execution_count": null,
   "metadata": {},
   "outputs": [],
   "source": [
    "w_ = np.random.uniform(0, 1, size = (X.shape[1], 2))\n",
    "print(w_.shape)\n",
    "w_ #weight Random"
   ]
  },
  {
   "cell_type": "code",
   "execution_count": null,
   "metadata": {},
   "outputs": [],
   "source": [
    "Tdata = dataset[\"Rev_con\"]\n",
    "T = np.array(Tdata)\n",
    "print(T)\n"
   ]
  },
  {
   "cell_type": "code",
   "execution_count": null,
   "metadata": {},
   "outputs": [],
   "source": [
    "lr=0.25\n",
    "epoch=6\n",
    "sums=0\n",
    "count=0\n",
    "d=9000\n",
    "for ite in range(epoch):\n",
    "    for i in range(d):\n",
    "        print(\"At Input \",X[i,:])\n",
    "        temp=[]\n",
    "        for j in range(w_.shape[1]):\n",
    "            for k in range(w_.shape[0]):\n",
    "                sums=sums+((X[i][k]-w_[k][j])**2)\n",
    "            temp.append(sums)\n",
    "        if(temp[0]<temp[1]):\n",
    "            index=0\n",
    "        else:\n",
    "            index=1\n",
    "        print(\"neuron at position \",index,\" won\" , \" and target is : \", T[i])\n",
    "\n",
    "        if(index==T[i]):\n",
    "            count+=1\n",
    "            for p in range(w_.shape[0]):\n",
    "                w_[p][index]=w_[p][index]+lr*(X[i][p]-w_[p][index])\n",
    "        else:\n",
    "            for p in range(w_.shape[0]):\n",
    "                w_[p][index]=w_[p][index]-lr*(X[i][p]-w_[p][index])\n",
    "        print(w_)\n",
    "    lr=lr*0.25\n",
    "OverallAccuracy=(count/d)*100"
   ]
  },
  {
   "cell_type": "code",
   "execution_count": null,
   "metadata": {},
   "outputs": [],
   "source": [
    "\n",
    "OverallAccuracy"
   ]
  },
  {
   "cell_type": "code",
   "execution_count": null,
   "metadata": {},
   "outputs": [],
   "source": []
  }
 ],
 "metadata": {
  "kernelspec": {
   "display_name": "Python 3",
   "language": "python",
   "name": "python3"
  },
  "language_info": {
   "codemirror_mode": {
    "name": "ipython",
    "version": 3
   },
   "file_extension": ".py",
   "mimetype": "text/x-python",
   "name": "python",
   "nbconvert_exporter": "python",
   "pygments_lexer": "ipython3",
   "version": "3.7.7"
  }
 },
 "nbformat": 4,
 "nbformat_minor": 2
}
